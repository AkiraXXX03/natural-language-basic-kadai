{
  "nbformat": 4,
  "nbformat_minor": 0,
  "metadata": {
    "colab": {
      "provenance": []
    },
    "kernelspec": {
      "name": "python3",
      "display_name": "Python 3"
    },
    "language_info": {
      "name": "python"
    }
  },
  "cells": [
    {
      "cell_type": "code",
      "execution_count": null,
      "metadata": {
        "id": "KfekSFkectf6"
      },
      "outputs": [],
      "source": [
        "import re\n",
        "\n",
        "a = 'abcd'\n",
        "print(re.match('ab', a))"
      ]
    },
    {
      "cell_type": "code",
      "source": [
        "# https://hosl.dev/python/python-regular-expression-question/\n",
        "# [問題1]変数aにmatch( )関数を使って’ab’を指定して文字列パターンを一致させて出力結果になるようにしてください。\n",
        "\n",
        "import re\n",
        "a = 'abcd'\n",
        "\n",
        "match_string1 = re.match(r'[a-z]{2}', a)\n",
        "print(match_string1)"
      ],
      "metadata": {
        "colab": {
          "base_uri": "https://localhost:8080/"
        },
        "id": "GMWbOs9HczCe",
        "outputId": "347d0205-0870-4e43-87dc-7fbbcd16f3e5"
      },
      "execution_count": 2,
      "outputs": [
        {
          "output_type": "stream",
          "name": "stdout",
          "text": [
            "<re.Match object; span=(0, 2), match='ab'>\n"
          ]
        }
      ]
    },
    {
      "cell_type": "code",
      "source": [
        "# [問題2]変数aにmatch( )関数を使って’ABC’を指定して文字列パターンを一致させて出力結果になるようにしてください。\n",
        "# match_string2 = re.match(r'(ABC)', a, re.IGNORECASE)\n",
        "match_string2 = re.match(r'[a-z]{3}', a, re.IGNORECASE)\n",
        "print(match_string2)"
      ],
      "metadata": {
        "colab": {
          "base_uri": "https://localhost:8080/"
        },
        "id": "wAz60hUngh8v",
        "outputId": "8cc86ae0-8392-4e0e-baa0-3257a234f18d"
      },
      "execution_count": 17,
      "outputs": [
        {
          "output_type": "stream",
          "name": "stdout",
          "text": [
            "<re.Match object; span=(0, 3), match='abc'>\n"
          ]
        }
      ]
    },
    {
      "cell_type": "code",
      "source": [
        "# [問題3] 変数aにsearch( )関数を使って’bc’を指定して文字列パターンを一致させて出力結果になるようにしてください。\n",
        "# match_string3 = re.search(r'[a-z]{2}', a) #出力 <re.Match object; span=(0, 2), match='ab'>\n",
        "match_string3 = re.search(r'(bc)', a)\n",
        "print(match_string3)"
      ],
      "metadata": {
        "colab": {
          "base_uri": "https://localhost:8080/"
        },
        "id": "vIbYyps1iddW",
        "outputId": "01874166-cd4b-45b2-d074-4b8c8735a2f0"
      },
      "execution_count": 20,
      "outputs": [
        {
          "output_type": "stream",
          "name": "stdout",
          "text": [
            "<re.Match object; span=(1, 3), match='bc'>\n"
          ]
        }
      ]
    },
    {
      "cell_type": "code",
      "source": [
        "# [問題4] 変数aにsearch( )関数を使って’bc’を指定して出力結果になるようにしてください。\n",
        "# match_string4 = re.search(r'[a-z]{2}', a).group() 出力:ab\n",
        "match_string4 = re.search(r'(bc)', a).group()\n",
        "print(match_string4)"
      ],
      "metadata": {
        "colab": {
          "base_uri": "https://localhost:8080/"
        },
        "id": "KsKDrRULjJ9m",
        "outputId": "a3ef45e4-8175-4f8f-da61-f38eeca93b1d"
      },
      "execution_count": 23,
      "outputs": [
        {
          "output_type": "stream",
          "name": "stdout",
          "text": [
            "bc\n"
          ]
        }
      ]
    },
    {
      "cell_type": "code",
      "source": [
        "# [問題5] 変数aにsearch( )関数を使って’bc’を指定して出力結果になるようにしてください。\n",
        "match_string5 = re.search(r'bc',a).span()\n",
        "print(match_string5)"
      ],
      "metadata": {
        "colab": {
          "base_uri": "https://localhost:8080/"
        },
        "id": "KBW6k_7Dlz7_",
        "outputId": "3fb99476-5f50-4894-f57b-4ceab5cd6399"
      },
      "execution_count": 16,
      "outputs": [
        {
          "output_type": "stream",
          "name": "stdout",
          "text": [
            "(1, 3)\n"
          ]
        }
      ]
    }
  ]
}